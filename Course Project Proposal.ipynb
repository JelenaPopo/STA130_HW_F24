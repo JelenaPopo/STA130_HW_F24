{
 "cells": [
  {
   "cell_type": "markdown",
   "id": "5e35f43f",
   "metadata": {},
   "source": [
    "COURSE PROJECT PROPOSAL \n",
    "--------\n",
    "\n",
    "1. Does Competitiveness Impact Social Connection?\n",
    "\n",
    "Variables:\n",
    "- Level of competitiveness (self-reported scale).\n",
    "- Quality of social connections (measured through survey items on relationships with friends, family, or coworkers).\n",
    "\n",
    "Exploration Approach:\n",
    "Bar Charts: To display the average quality of social connections for different levels of competitiveness. Bar charts effectively summarize categorical data, allowing for easy comparison across distinct groups. By segmenting competitiveness levels into categories, we can visualize how each group reports their social connection quality. This helps to quickly identify trends or patterns in the data.\n",
    "\n",
    "Analysis Plan:\n",
    "Assess the relationship between competitiveness and social connection quality.\n",
    "\n",
    "Hypothesis:\n",
    "Higher competitiveness levels may be associated with lower quality in social connections, as competitive individuals might prioritize personal goals over building relationships.\n",
    "\n",
    "------\n",
    "\n",
    "2. Is There an Association Between Coffee Intake and Reported Stress Levels?\n",
    "\n",
    "Variables:\n",
    "- Frequency of Coffee consumption.\n",
    "- Stress levels.\n",
    "\n",
    "Exploration Approach:\n",
    "Use box plots to compare stress levels between different coffee consumption groups (e.g., non-drinkers, moderate drinkers, heavy drinkers).\n",
    "Using Historgrams to display the distribution of stress levels within each coffee consumption category.Histograms will help visualize the frequency distribution of stress levels for each group, highlighting how stress varies within those who consume coffee differently.\n",
    "\n",
    "Analysis Plan:\n",
    "Calculate the mean, median, and standard deviation of stress levels for each coffee consumption category to summarize the data and understand tendencies and variability.\n",
    "\n",
    "Hypothesis:\n",
    "Moderate coffee drinkers may report lower stress levels compared to non-drinkers, while heavy drinkers may report higher stress levels.\n",
    "\n",
    "\n",
    "--------\n",
    "3. Is Cat Ownership Linked to Higher Life Satisfaction or Happiness?\n",
    "\n",
    "Variables:\n",
    "- Cat ownership status.\n",
    "- Life satisfaction or happiness score.\n",
    "\n",
    "Exploration Approach:\n",
    "Use box plots to compare life satisfaction or happiness levels between cat owners and non-cat owners. Use historgram to show the distribution of happiness or life satisfaction scores separately for cat owners and non-cat owners.\n",
    "\n",
    "Analysis Plan:\n",
    "Calculate the mean, median, and standard deviation of life satisfaction or happiness scores for both cat owners and non-cat owners to summarize the data and understand tendencies and variability within each group.\n",
    "\n",
    "Hypothesis:\n",
    "Cat owners may report higher happiness or life satisfaction scores, as pets can add joy and a sense of purpose to life.\n"
   ]
  },
  {
   "cell_type": "code",
   "execution_count": null,
   "id": "ef8b06d3",
   "metadata": {},
   "outputs": [],
   "source": []
  }
 ],
 "metadata": {
  "kernelspec": {
   "display_name": "Python 3 (ipykernel)",
   "language": "python",
   "name": "python3"
  },
  "language_info": {
   "codemirror_mode": {
    "name": "ipython",
    "version": 3
   },
   "file_extension": ".py",
   "mimetype": "text/x-python",
   "name": "python",
   "nbconvert_exporter": "python",
   "pygments_lexer": "ipython3",
   "version": "3.11.6"
  }
 },
 "nbformat": 4,
 "nbformat_minor": 5
}
